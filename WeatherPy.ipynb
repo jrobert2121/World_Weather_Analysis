{
 "cells": [
  {
   "cell_type": "code",
   "execution_count": 1,
   "id": "69cec348",
   "metadata": {},
   "outputs": [],
   "source": [
    "# import dependencies\n",
    "import pandas as pd\n",
    "import matplotlib.pyplot as plt\n",
    "import numpy as np\n",
    "from citipy import citipy\n",
    "import requests\n",
    "from config import weather_api_key\n",
    "from datetime import datetime"
   ]
  },
  {
   "cell_type": "code",
   "execution_count": 2,
   "id": "3a5a4765",
   "metadata": {},
   "outputs": [],
   "source": [
    "# Starting URL for Weather Map API Call.\n",
    "url = \"http://api.openweathermap.org/data/2.5/weather?units=Imperial&APPID=\" + weather_api_key"
   ]
  },
  {
   "cell_type": "code",
   "execution_count": 3,
   "id": "ab02f805",
   "metadata": {},
   "outputs": [
    {
     "data": {
      "text/plain": [
       "<zip at 0x126ea489688>"
      ]
     },
     "execution_count": 3,
     "metadata": {},
     "output_type": "execute_result"
    }
   ],
   "source": [
    "# create a set of random latitude and longitude combinations\n",
    "lats = np.random.uniform(low=-90.000, high=90.000, size=1500)\n",
    "lngs = np.random.uniform(low=-180.000, high=180.000, size=1500)\n",
    "lat_lngs = zip(lats, lngs)\n",
    "lat_lngs"
   ]
  },
  {
   "cell_type": "code",
   "execution_count": 4,
   "id": "c1039849",
   "metadata": {},
   "outputs": [],
   "source": [
    "# add the latitudes and longitudes to a list\n",
    "coordinates = list(lat_lngs)"
   ]
  },
  {
   "cell_type": "code",
   "execution_count": 10,
   "id": "878c2cdf",
   "metadata": {},
   "outputs": [
    {
     "name": "stdout",
     "output_type": "stream",
     "text": [
      "hermanus\n"
     ]
    },
    {
     "data": {
      "text/plain": [
       "613"
      ]
     },
     "execution_count": 10,
     "metadata": {},
     "output_type": "execute_result"
    }
   ],
   "source": [
    "# Create a list for holding the cities.\n",
    "cities = []\n",
    "# Identify the nearest city for each latitude and longitude combination.\n",
    "for coordinate in coordinates:\n",
    "    city = citipy.nearest_city(coordinate[0], coordinate[1]).city_name\n",
    "\n",
    "    # If the city is unique, then we will add it to the cities list.\n",
    "    if city not in cities:\n",
    "        cities.append(city)\n",
    "# Print the city count to confirm sufficient count.\n",
    "print(cities[0])\n",
    "len(cities)\n"
   ]
  },
  {
   "cell_type": "code",
   "execution_count": 14,
   "id": "3295d2bf",
   "metadata": {},
   "outputs": [
    {
     "name": "stdout",
     "output_type": "stream",
     "text": [
      "Beginning Data Retrieval     \n",
      "-----------------------------\n",
      "Processing Record 1 of Set 1 | hermanus\n",
      "City not found with 429 for url http://api.openweathermap.org/data/2.5/weather?units=Imperial&APPID=5a29b6a3df33f35d1ca11fb0179c04a9&qhermanus\n",
      "Processing Record 2 of Set 1 | diamantino\n",
      "City not found with 429 for url http://api.openweathermap.org/data/2.5/weather?units=Imperial&APPID=5a29b6a3df33f35d1ca11fb0179c04a9&qdiamantino\n",
      "Processing Record 3 of Set 1 | rikitea\n",
      "City not found with 429 for url http://api.openweathermap.org/data/2.5/weather?units=Imperial&APPID=5a29b6a3df33f35d1ca11fb0179c04a9&qrikitea\n",
      "Processing Record 4 of Set 1 | bredasdorp\n",
      "City not found with 429 for url http://api.openweathermap.org/data/2.5/weather?units=Imperial&APPID=5a29b6a3df33f35d1ca11fb0179c04a9&qbredasdorp\n",
      "Processing Record 5 of Set 1 | port lincoln\n",
      "City not found with 429 for url http://api.openweathermap.org/data/2.5/weather?units=Imperial&APPID=5a29b6a3df33f35d1ca11fb0179c04a9&qport+lincoln\n",
      "Processing Record 6 of Set 1 | christchurch\n",
      "City not found with 429 for url http://api.openweathermap.org/data/2.5/weather?units=Imperial&APPID=5a29b6a3df33f35d1ca11fb0179c04a9&qchristchurch\n",
      "Processing Record 7 of Set 1 | ushuaia\n",
      "City not found with 429 for url http://api.openweathermap.org/data/2.5/weather?units=Imperial&APPID=5a29b6a3df33f35d1ca11fb0179c04a9&qushuaia\n",
      "Processing Record 8 of Set 1 | butaritari\n",
      "City not found with 429 for url http://api.openweathermap.org/data/2.5/weather?units=Imperial&APPID=5a29b6a3df33f35d1ca11fb0179c04a9&qbutaritari\n",
      "Processing Record 9 of Set 1 | punta arenas\n",
      "City not found with 429 for url http://api.openweathermap.org/data/2.5/weather?units=Imperial&APPID=5a29b6a3df33f35d1ca11fb0179c04a9&qpunta+arenas\n",
      "Processing Record 10 of Set 1 | airai\n",
      "City not found with 429 for url http://api.openweathermap.org/data/2.5/weather?units=Imperial&APPID=5a29b6a3df33f35d1ca11fb0179c04a9&qairai\n",
      "-----------------------------\n",
      "Data Retrieval Complete      \n",
      "-----------------------------\n"
     ]
    }
   ],
   "source": [
    "# create an empty list to hold the weather data\n",
    "city_data = []\n",
    "\n",
    "# print the beginning of the logging\n",
    "print(\"Beginning Data Retrieval     \")\n",
    "print(\"-----------------------------\")\n",
    "\n",
    "# create counters\n",
    "record_count = 1\n",
    "set_count = 1\n",
    "\n",
    "# loop through all the cities in our list\n",
    "for i, city in enumerate(cities[0:10]):\n",
    "    \n",
    "    # group cities in sets of 50 for logging purposes.\n",
    "    if (i % 50 == 0 and i >= 50):\n",
    "        set_count += 1\n",
    "        record_count = 1\n",
    "        \n",
    "    # create endpoint url with each city\n",
    "    city_url = url + \"&q\" + city.replace(\" \", \"+\")\n",
    "    \n",
    "    # log the URL, record and set numbers and the city\n",
    "    print(f\"Processing Record {record_count} of Set {set_count} | {city}\")\n",
    "    # add 1 to the record count\n",
    "    record_count += 1\n",
    "    \n",
    "    # Run an API request for each of the cities.\n",
    "    try:\n",
    "        # Parse the JSON and retrieve data.\n",
    "        city_response = requests.get(city_url)\n",
    "        if city_response.status_code != 200:\n",
    "            print(f\"City not found with {city_response.status_code} for url {city_url}\")\n",
    "            continue\n",
    "                         \n",
    "        city_weather = city_response.json()\n",
    "        # Parse out the needed data.\n",
    "        city_lat = city_weather[\"coord\"][\"lat\"]\n",
    "        city_lng = city_weather[\"coord\"][\"lon\"]\n",
    "        city_max_temp = city_weather[\"main\"][\"temp_max\"]\n",
    "        city_humidity = city_weather[\"main\"][\"humidity\"]\n",
    "        city_clouds = city_weather[\"clouds\"][\"all\"]\n",
    "        city_wind = city_weather[\"wind\"][\"speed\"]\n",
    "        city_country = city_weather[\"sys\"][\"country\"]\n",
    "        # Convert the date to ISO standard.\n",
    "        city_date = datetime.utcfromtimestamp(city_weather[\"dt\"]).strftime('%Y-%m-%d %H:%M:%S')\n",
    "        # Append the city information into city_data list.\n",
    "        city_data.append({\"City\": city.title(),\n",
    "                          \"Lat\": city_lat,\n",
    "                          \"Lng\": city_lng,\n",
    "                          \"Max Temp\": city_max_temp,\n",
    "                          \"Humidity\": city_humidity,\n",
    "                          \"Cloudiness\": city_clouds,\n",
    "                          \"Wind Speed\": city_wind,\n",
    "                          \"Country\": city_country,\n",
    "                          \"Date\": city_date})\n",
    "\n",
    "# If an error is experienced, skip the city.\n",
    "    except:\n",
    "        print(f\"unexpected error found for url {city_url}\")\n",
    "        pass\n",
    "\n",
    "# Indicate that Data Loading is complete.\n",
    "print(\"-----------------------------\")\n",
    "print(\"Data Retrieval Complete      \")\n",
    "print(\"-----------------------------\")"
   ]
  },
  {
   "cell_type": "code",
   "execution_count": 9,
   "id": "527bed62",
   "metadata": {},
   "outputs": [
    {
     "data": {
      "text/plain": [
       "0"
      ]
     },
     "execution_count": 9,
     "metadata": {},
     "output_type": "execute_result"
    }
   ],
   "source": [
    "len(city_data)"
   ]
  },
  {
   "cell_type": "code",
   "execution_count": 8,
   "id": "a66cf6fb",
   "metadata": {},
   "outputs": [
    {
     "data": {
      "text/html": [
       "<div>\n",
       "<style scoped>\n",
       "    .dataframe tbody tr th:only-of-type {\n",
       "        vertical-align: middle;\n",
       "    }\n",
       "\n",
       "    .dataframe tbody tr th {\n",
       "        vertical-align: top;\n",
       "    }\n",
       "\n",
       "    .dataframe thead th {\n",
       "        text-align: right;\n",
       "    }\n",
       "</style>\n",
       "<table border=\"1\" class=\"dataframe\">\n",
       "  <thead>\n",
       "    <tr style=\"text-align: right;\">\n",
       "      <th></th>\n",
       "    </tr>\n",
       "  </thead>\n",
       "  <tbody>\n",
       "  </tbody>\n",
       "</table>\n",
       "</div>"
      ],
      "text/plain": [
       "Empty DataFrame\n",
       "Columns: []\n",
       "Index: []"
      ]
     },
     "execution_count": 8,
     "metadata": {},
     "output_type": "execute_result"
    }
   ],
   "source": [
    "# Convert the array of dictionaries to a Pandas DataFrame.\n",
    "city_data_df = pd.DataFrame(city_data)\n"
   ]
  },
  {
   "cell_type": "code",
   "execution_count": null,
   "id": "474e70ac",
   "metadata": {},
   "outputs": [],
   "source": []
  }
 ],
 "metadata": {
  "kernelspec": {
   "display_name": "PythonData",
   "language": "python",
   "name": "pythondata"
  },
  "language_info": {
   "codemirror_mode": {
    "name": "ipython",
    "version": 3
   },
   "file_extension": ".py",
   "mimetype": "text/x-python",
   "name": "python",
   "nbconvert_exporter": "python",
   "pygments_lexer": "ipython3",
   "version": "3.7.10"
  }
 },
 "nbformat": 4,
 "nbformat_minor": 5
}
